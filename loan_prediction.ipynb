{
  "cells": [
    {
      "cell_type": "markdown",
      "metadata": {},
      "source": [
        "MIT License\nCopyright (c) 2024 NexData Solutions\nSee LICENSE file for more details.",
        "Data importing & preprocessing"
      ]
    }
  ]
}

  },
  {
   "cell_type": "code",
   "execution_count": 10,
   "metadata": {},
   "outputs": [],
   "source": [
    "import pandas as pd\n",
    "import numpy as np\n",
    "from sklearn.model_selection import train_test_split\n",
    "from sklearn.preprocessing import OneHotEncoder, StandardScaler\n",
    "from sklearn.metrics import accuracy_score, confusion_matrix\n",
    "import xgboost as xgb\n",
    "import matplotlib.pyplot as plt\n",
    "\n"
   ]
  },
  {
   "cell_type": "code",
   "execution_count": 45,
   "metadata": {},
   "outputs": [],
   "source": [
    "# Load the dataset\n",
    "df = pd.read_csv('loan_approval_dataset( Real data).csv')\n",
    "\n",
    "\n",
    "df['education'] = df['education'].apply(lambda x: 1 if x == ' Graduate' else 0)\n",
    "df['self_employed'] = df['self_employed'].apply(lambda x: 1 if x == ' Yes' else 0)\n",
    "df['status'] = df['status'].apply(lambda x: 1 if x == ' Approved' else 0)\n",
    "\n",
    "\n",
    "# Define input features and target variable\n",
    "X = df[['loan_id', 'no_of_dependents', 'education', 'self_employed', 'income_annum', 'loan_amount', 'loan_term', 'cibil_score', 'residential_assets_value', 'commercial_assets_value', 'luxury_assets_value', 'bank_asset_value']]\n",
    "y = df['status']\n",
    "\n",
    "# divide data into training and testing sets\n",
    "X_train, X_test, y_train, y_test = train_test_split(X, y, test_size=0.2, random_state=42)\n",
    "\n"
   ]
  },
  {
   "cell_type": "code",
   "execution_count": 46,
   "metadata": {},
   "outputs": [
    {
     "name": "stdout",
     "output_type": "stream",
     "text": [
      "First few elements of X_train:\n",
      "       loan_id  no_of_dependents  education  self_employed  income_annum  \\\n",
      "1675     1676                 5          0              0       7900000   \n",
      "1164     1165                 0          0              1       9600000   \n",
      "192       193                 1          1              0        800000   \n",
      "910       911                 2          1              1       4900000   \n",
      "567       568                 5          1              1       3000000   \n",
      "\n",
      "      loan_amount  loan_term  cibil_score  residential_assets_value  \\\n",
      "1675     29900000          6          568                   5800000   \n",
      "1164     34000000         12          710                  23800000   \n",
      "192       2900000          8          682                   2200000   \n",
      "910      13100000         18          754                   8200000   \n",
      "567      11100000         12          441                   8500000   \n",
      "\n",
      "      commercial_assets_value  luxury_assets_value  bank_asset_value  \n",
      "1675                 13900000             15900000           8700000  \n",
      "1164                 10300000             38100000           7800000  \n",
      "192                   1100000              2900000            700000  \n",
      "910                   3300000             16500000           7200000  \n",
      "567                   2500000              7300000           2000000  \n",
      "Type of X_train: <class 'pandas.core.frame.DataFrame'>\n"
     ]
    }
   ],
   "source": [
    "print(\"First few elements of X_train:\\n\", X_train[:5])\n",
    "print(\"Type of X_train:\",type(X_train))\n"
   ]
  },
  {
   "cell_type": "code",
   "execution_count": 47,
   "metadata": {},
   "outputs": [
    {
     "name": "stdout",
     "output_type": "stream",
     "text": [
      "First few elements of y_train: 1675    1\n",
      "1164    1\n",
      "192     1\n",
      "910     1\n",
      "567     0\n",
      "Name: status, dtype: int64\n",
      "Type of y_train: <class 'pandas.core.series.Series'>\n"
     ]
    }
   ],
   "source": [
    "print(\"First few elements of y_train:\", y_train[:5])\n",
    "print(\"Type of y_train:\",type(y_train))"
   ]
  },
  {
   "cell_type": "code",
   "execution_count": 42,
   "metadata": {},
   "outputs": [
    {
     "name": "stdout",
     "output_type": "stream",
     "text": [
      "The shape of X_train is: (4269, 12)\n",
      "The shape of y_train is:  (4269,)\n",
      "Number of training examples (m): 4269\n"
     ]
    }
   ],
   "source": [
    "print ('The shape of X_train is:', X_train.shape)\n",
    "print ('The shape of y_train is: ', y_train.shape)\n",
    "print ('Number of training examples (m):', len(X_train))"
   ]
  },
  {
   "cell_type": "code",
   "execution_count": 49,
   "metadata": {},
   "outputs": [],
   "source": [
    "from sklearn.model_selection import train_test_split\n",
    "from xgboost import XGBClassifier\n",
    "# Initialize and train the XGBoost model\n",
    "model = XGBClassifier()\n",
    "model.fit(X_train, y_train)\n",
    "y_pred = model.predict(X_test)"
   ]
  },
  {
   "cell_type": "code",
   "execution_count": 50,
   "metadata": {},
   "outputs": [
    {
     "name": "stdout",
     "output_type": "stream",
     "text": [
      "Accuracy: 0.9812646370023419\n"
     ]
    }
   ],
   "source": [
    "accuracy = model.score(X_test, y_test)\n",
    "print(f\"Accuracy: {accuracy}\")\n"
   ]
  },
  {
   "cell_type": "markdown",
   "metadata": {},
   "source": [
    "*Model Validation*\n",
    "\n",
    "Model validation helps ensure that your model generalizes well to unseen data. Cross-validation is a common technique for this purpose. It involves splitting the data into multiple folds and training the model on each fold while validating on the remaining data."
   ]
  },
  {
   "cell_type": "code",
   "execution_count": 51,
   "metadata": {},
   "outputs": [
    {
     "name": "stdout",
     "output_type": "stream",
     "text": [
      "Cross-validation accuracy: 0.9826653964105196\n"
     ]
    }
   ],
   "source": [
    "from sklearn.model_selection import cross_val_score\n",
    "\n",
    "# Perform 5-fold cross-validation\n",
    "cv_scores = cross_val_score(model, X, y, cv=5)\n",
    "\n",
    "# Print the average accuracy\n",
    "print(f\"Cross-validation accuracy: {cv_scores.mean()}\")\n"
   ]
  },
  {
   "cell_type": "markdown",
   "metadata": {},
   "source": [
    "*Feature Importance*\n",
    "\n",
    "Understanding which features contribute the most to your model’s predictions can provide valuable insights. XGBoost has a built-in method to plot feature importance."
   ]
  },
  {
   "cell_type": "code",
   "execution_count": 52,
   "metadata": {},
   "outputs": [
    {
     "data": {
      "image/png": "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",
      "text/plain": [
       "<Figure size 640x480 with 1 Axes>"
      ]
     },
     "metadata": {},
     "output_type": "display_data"
    }
   ],
   "source": [
    "import matplotlib.pyplot as plt\n",
    "from xgboost import plot_importance\n",
    "\n",
    "# Plot feature importance\n",
    "plot_importance(model)\n",
    "plt.show()\n"
   ]
  },
  {
   "cell_type": "markdown",
   "metadata": {},
   "source": [
    "*Hyperparameter Tuning*\n",
    "\n",
    "Hyperparameter tuning can help you find the best combination of parameters for your model. Grid Search and Random Search are common methods for this."
   ]
  },
  {
   "cell_type": "code",
   "execution_count": 54,
   "metadata": {},
   "outputs": [
    {
     "name": "stdout",
     "output_type": "stream",
     "text": [
      "Fitting 3 folds for each of 288 candidates, totalling 864 fits\n",
      "Best parameters: {'colsample_bytree': 1.0, 'gamma': 0.2, 'learning_rate': 0.01, 'max_depth': 6, 'min_child_weight': 1, 'n_estimators': 200, 'subsample': 1.0}\n",
      "Best cross-validation accuracy: 0.9818441134552606\n"
     ]
    }
   ],
   "source": [
    "from sklearn.model_selection import GridSearchCV\n",
    "\n",
    "# Define the parameter grid\n",
    "param_grid = {\n",
    "    'n_estimators': [100, 200],\n",
    "    'learning_rate': [0.01, 0.1],\n",
    "    'max_depth': [4, 6, 8],\n",
    "    'min_child_weight': [1, 3],\n",
    "    'gamma': [0, 0.1, 0.2],\n",
    "    'subsample': [0.8, 1.0],\n",
    "    'colsample_bytree': [0.8, 1.0]\n",
    "}\n",
    "\n",
    "# Initialize the Grid Search\n",
    "grid_search = GridSearchCV(estimator=model, param_grid=param_grid, cv=3, scoring='accuracy', verbose=1)\n",
    "\n",
    "# Fit the Grid Search to the data\n",
    "grid_search.fit(X_train, y_train)\n",
    "\n",
    "# Print the best parameters and best score\n",
    "print(f\"Best parameters: {grid_search.best_params_}\")\n",
    "print(f\"Best cross-validation accuracy: {grid_search.best_score_}\")\n"
   ]
  },
  {
   "cell_type": "markdown",
   "metadata": {},
   "source": [
    "*Evaluation Metrics*\n",
    "\n",
    "While accuracy is a good metric, it’s also important to evaluate other metrics like precision, recall, F1-score, and ROC-AUC to get a comprehensive understanding of your model’s performance."
   ]
  },
  {
   "cell_type": "code",
   "execution_count": 55,
   "metadata": {},
   "outputs": [
    {
     "name": "stdout",
     "output_type": "stream",
     "text": [
      "              precision    recall  f1-score   support\n",
      "\n",
      "           0       0.98      0.97      0.97       318\n",
      "           1       0.98      0.99      0.99       536\n",
      "\n",
      "    accuracy                           0.98       854\n",
      "   macro avg       0.98      0.98      0.98       854\n",
      "weighted avg       0.98      0.98      0.98       854\n",
      "\n",
      "ROC-AUC score: 0.9980815263306111\n"
     ]
    }
   ],
   "source": [
    "from sklearn.metrics import classification_report, roc_auc_score\n",
    "\n",
    "# Predict the test set results\n",
    "y_pred = model.predict(X_test)\n",
    "\n",
    "# Print classification report\n",
    "print(classification_report(y_test, y_pred))\n",
    "\n",
    "# Calculate and print ROC-AUC score\n",
    "roc_auc = roc_auc_score(y_test, model.predict_proba(X_test)[:, 1])\n",
    "print(f\"ROC-AUC score: {roc_auc}\")\n"
   ]
  },
  {
   "cell_type": "code",
   "execution_count": 56,
   "metadata": {},
   "outputs": [
    {
     "name": "stdout",
     "output_type": "stream",
     "text": [
      "Final Accuracy: 0.9660421545667447\n"
     ]
    }
   ],
   "source": [
    "best_model = grid_search.best_estimator_\n",
    "final_accuracy = best_model.score(X_test, y_test)\n",
    "print(f\"Final Accuracy: {final_accuracy}\")"
   ]
  },
  {
   "cell_type": "code",
   "execution_count": 57,
   "metadata": {},
   "outputs": [
    {
     "data": {
      "text/plain": [
       "['loan_prediction_model.pkl']"
      ]
     },
     "execution_count": 57,
     "metadata": {},
     "output_type": "execute_result"
    }
   ],
   "source": [
    "import joblib\n",
    "joblib.dump(model, 'loan_prediction_model.pkl')"
   ]
  },
  {
   "cell_type": "code",
   "execution_count": null,
   "metadata": {},
   "outputs": [],
   "source": []
  }
 ],
 "metadata": {
  "kernelspec": {
   "display_name": "Python (loanvenv)",
   "language": "python",
   "name": "loanvenv"
  },
  "language_info": {
   "codemirror_mode": {
    "name": "ipython",
    "version": 3
   },
   "file_extension": ".py",
   "mimetype": "text/x-python",
   "name": "python",
   "nbconvert_exporter": "python",
   "pygments_lexer": "ipython3",
   "version": "3.12.4"
  }
 },
 "nbformat": 4,
 "nbformat_minor": 2
}
